{
  "nbformat": 4,
  "nbformat_minor": 0,
  "metadata": {
    "colab": {
      "provenance": []
    },
    "kernelspec": {
      "name": "python3",
      "display_name": "Python 3"
    },
    "language_info": {
      "name": "python"
    }
  },
  "cells": [
    {
      "cell_type": "markdown",
      "source": [
        "#ETL com integração do Gemini\n",
        "Este projeto é uma pipeline de **ETL** (Extração, Transformação e Exportação) que demonstra a integração e o processamento de dados usando diferentes APIs. O objetivo é coletar informações de pessoas, enriquecer esses dados com recomendações de filmes personalizadas e, por fim, exportar o resultado para um arquivo CSV.\n",
        "O fluxo de trabalho inclui as seguintes etapas:\n",
        "\n",
        "*   **Extração**: Os dados brutos são extraídos da **Faker API**, que fornece informações de perfil como nome, data de nascimento, cidade e país.\n",
        "*   **Transformação**: Os dados extraídos são processados. Para cada pessoa, uma solicitação é enviada à **API do Gemini** para gerar três recomendações de filmes com base no seu perfil (nome, idade, cidade e país).\n",
        "*   **Carga**: Os dados originais, agora enriquecidos com as recomendações de filmes, são exportados para um arquivo no formato CSV, prontos para serem usados em análises ou outras aplicações.\n",
        "\n",
        "Este projeto serve como um exemplo prático de como orquestrar a coleta de dados de múltiplas fontes e usar a inteligência artificial para agregar valor a essas informações."
      ],
      "metadata": {
        "id": "UOCe1ioL_8rI"
      }
    },
    {
      "cell_type": "markdown",
      "source": [
        "#Configurações iniciais"
      ],
      "metadata": {
        "id": "JY_b8z5fA4hB"
      }
    },
    {
      "cell_type": "markdown",
      "source": [
        "###Instalando a biblioteca que permitirá a utilização da **API do Gemini**"
      ],
      "metadata": {
        "id": "eULc7AWjj0PR"
      }
    },
    {
      "cell_type": "code",
      "source": [
        "!pip install -q -U google-generativeai"
      ],
      "metadata": {
        "id": "XwXh3V5E3dkM"
      },
      "execution_count": null,
      "outputs": []
    },
    {
      "cell_type": "markdown",
      "source": [
        "###Importando as bibliotecas que serão utilizadas no projeto"
      ],
      "metadata": {
        "id": "bJMyyMZ0kECC"
      }
    },
    {
      "cell_type": "code",
      "execution_count": null,
      "metadata": {
        "id": "xFAtjNfrb95O"
      },
      "outputs": [],
      "source": [
        "import pandas as pd\n",
        "import requests\n",
        "import json\n",
        "from google import genai\n",
        "from google.colab import userdata"
      ]
    },
    {
      "cell_type": "markdown",
      "source": [
        "###Definindo url para utilização da **Faker API** e coletando a variável de ambiente da chave da **API do Gemini**"
      ],
      "metadata": {
        "id": "aQMVknm9kN5o"
      }
    },
    {
      "cell_type": "code",
      "source": [
        "API_URL = 'https://fakerapi.it/api/v2/'\n",
        "API_KEY = userdata.get('GOOGLE_API_KEY')"
      ],
      "metadata": {
        "id": "0S7_n5R2dWXf"
      },
      "execution_count": null,
      "outputs": []
    },
    {
      "cell_type": "markdown",
      "source": [
        "#Extract - Extraindo dados da **Faker API**"
      ],
      "metadata": {
        "id": "Bj4aVeFTkqpG"
      }
    },
    {
      "cell_type": "markdown",
      "source": [
        "###Definindo a função que fará a requisição na API"
      ],
      "metadata": {
        "id": "F0CUjsJQk_Nt"
      }
    },
    {
      "cell_type": "code",
      "source": [
        "def get_persons(quantity):\n",
        "    url = f'{API_URL}persons?_quantity={quantity}'\n",
        "    try:\n",
        "      response = requests.get(url)\n",
        "      return response.json().get('data') if response.status_code == 200 else None\n",
        "    except requests.exceptions.RequestException as e:\n",
        "      print(f'Ocorreu um erro de conexão: {e}')\n",
        "      return None"
      ],
      "metadata": {
        "id": "068ppdemcTw2"
      },
      "execution_count": null,
      "outputs": []
    },
    {
      "cell_type": "markdown",
      "source": [
        "###Adicionando as respostas da requisição em uma lista"
      ],
      "metadata": {
        "id": "jAB6QelPlmQj"
      }
    },
    {
      "cell_type": "code",
      "source": [
        "persons = []\n",
        "QUANTITY = 10\n",
        "persons = get_persons(QUANTITY)\n",
        "for person in persons:\n",
        "  print(person)"
      ],
      "metadata": {
        "id": "BsV9PKUYeSii",
        "collapsed": true
      },
      "execution_count": null,
      "outputs": []
    },
    {
      "cell_type": "markdown",
      "source": [
        "#Transform - Transformando os dados coletados"
      ],
      "metadata": {
        "id": "yQfAbdRXlugw"
      }
    },
    {
      "cell_type": "markdown",
      "source": [
        "###Passando a chave da api para o objeto que fará a requisição"
      ],
      "metadata": {
        "id": "Is-pK3m4l8e1"
      }
    },
    {
      "cell_type": "code",
      "source": [
        "client = genai.Client(api_key=API_KEY)"
      ],
      "metadata": {
        "id": "g3zWM78E3SiW"
      },
      "execution_count": null,
      "outputs": []
    },
    {
      "cell_type": "markdown",
      "source": [
        "###Definindo a função que define o prompt e faz a requisição para o **Gemini**"
      ],
      "metadata": {
        "id": "MxWD8JZ9mIGP"
      }
    },
    {
      "cell_type": "code",
      "source": [
        "def get_message(person):\n",
        "  prompt = f'''Recomende 3 filmes para {person[\"firstname\"]} {person[\"lastname\"]}\n",
        "  que nasceu no dia {person[\"birthday\"]} e mora em {person[\"address\"][\"country\"]}\n",
        "  na cidade {person[\"address\"][\"city\"]}, limite a resposta a 200 caracteres sem negritos\n",
        "  e escreva em inglês'''\n",
        "  response = client.models.generate_content(\n",
        "    model=\"gemini-2.5-flash\", contents=prompt\n",
        "  )\n",
        "  return response.text"
      ],
      "metadata": {
        "id": "TNCBEFOm6utM"
      },
      "execution_count": null,
      "outputs": []
    },
    {
      "cell_type": "code",
      "source": [
        "for i, person in enumerate(persons):\n",
        "  person['recomendations'] = get_message(person)\n",
        "  print(i)"
      ],
      "metadata": {
        "id": "ODRqRE7Y89v9",
        "colab": {
          "base_uri": "https://localhost:8080/"
        },
        "outputId": "629c7162-cef7-4c74-b91b-c37192db5816"
      },
      "execution_count": null,
      "outputs": [
        {
          "output_type": "stream",
          "name": "stdout",
          "text": [
            "0\n",
            "1\n",
            "2\n",
            "3\n",
            "4\n",
            "5\n",
            "6\n",
            "7\n",
            "8\n",
            "9\n"
          ]
        }
      ]
    },
    {
      "cell_type": "markdown",
      "source": [
        "#Load - Exportando os dados enriquecidos"
      ],
      "metadata": {
        "id": "TCOUrpeHmVLE"
      }
    },
    {
      "cell_type": "markdown",
      "source": [
        "###Exportando os dados com a nova aba de recomendações para um csv"
      ],
      "metadata": {
        "id": "qNM8uqE-mYMV"
      }
    },
    {
      "cell_type": "code",
      "source": [
        "df = pd.DataFrame(persons)\n",
        "df.to_csv('persons_recomendations.csv')"
      ],
      "metadata": {
        "id": "Jc_gIt-KR93V"
      },
      "execution_count": null,
      "outputs": []
    },
    {
      "cell_type": "code",
      "source": [
        "display(df)"
      ],
      "metadata": {
        "colab": {
          "base_uri": "https://localhost:8080/"
        },
        "id": "cAcA-5m-jnr9",
        "outputId": "6108f97a-6573-4378-b580-c3170e5f173a"
      },
      "execution_count": null,
      "outputs": [
        {
          "output_type": "display_data",
          "data": {
            "text/plain": [
              "   id firstname   lastname                           email         phone  \\\n",
              "0   1    Rickie     Abbott            eden.sipes@gmail.com  +19365623433   \n",
              "1   2     Mabel     Hammes           walsh.marco@yahoo.com  +19493998212   \n",
              "2   3    Sigurd      Weber           ernie.rohan@gmail.com  +17162258310   \n",
              "3   4   Charity    Hegmann         simeon.daniel@yahoo.com  +15642460496   \n",
              "4   5     Lonny  Langworth     maiya.hermann@powlowski.biz  +17862835502   \n",
              "5   6     Dovie    D'Amore            laila09@kshlerin.com  +16418530199   \n",
              "6   7      Evie       Lind              emmy14@hotmail.com  +17604313023   \n",
              "7   8      Shad      Hoppe  jessyca.stiedemann@hotmail.com  +19194528182   \n",
              "8   9  Citlalli    Padberg             akautzer@heller.com  +15304826939   \n",
              "9  10   Matilde    Kessler            emard.mona@grady.biz  +18584795869   \n",
              "\n",
              "     birthday  gender                                            address  \\\n",
              "0  2023-09-13   other  {'id': 1, 'street': '795 Stiedemann Heights', ...   \n",
              "1  1966-09-10   other  {'id': 1, 'street': '7086 Medhurst Harbor Apt....   \n",
              "2  2020-04-01   other  {'id': 1, 'street': '6413 Minerva Corner Suite...   \n",
              "3  1972-12-24  female  {'id': 1, 'street': '50084 Braun Lake', 'stree...   \n",
              "4  1966-11-23   other  {'id': 1, 'street': '92723 Gutmann Spring', 's...   \n",
              "5  1968-01-25   other  {'id': 1, 'street': '9807 Mollie Views Suite 7...   \n",
              "6  1938-11-12   other  {'id': 1, 'street': '49151 Reinger Forge Suite...   \n",
              "7  1937-05-12   other  {'id': 1, 'street': '9295 Gene Radial Suite 62...   \n",
              "8  1999-07-27  female  {'id': 1, 'street': '2391 Osinski Walk', 'stre...   \n",
              "9  1966-12-19  female  {'id': 1, 'street': '6550 Marquis Course Apt. ...   \n",
              "\n",
              "                website                               image  \\\n",
              "0  http://lueilwitz.com  http://placeimg.com/640/480/people   \n",
              "1        http://orn.com  http://placeimg.com/640/480/people   \n",
              "2      http://stehr.com  http://placeimg.com/640/480/people   \n",
              "3     http://hessel.com  http://placeimg.com/640/480/people   \n",
              "4     http://blanda.com  http://placeimg.com/640/480/people   \n",
              "5   http://bernier.info  http://placeimg.com/640/480/people   \n",
              "6    http://schuppe.com  http://placeimg.com/640/480/people   \n",
              "7     http://littel.com  http://placeimg.com/640/480/people   \n",
              "8    http://lebsack.com  http://placeimg.com/640/480/people   \n",
              "9     http://paucek.com  http://placeimg.com/640/480/people   \n",
              "\n",
              "                                      recomendations  \n",
              "0  For Rickie, born 2023-09-13: My Neighbor Totor...  \n",
              "1  For Mabel Hammes: Forrest Gump, The Shawshank ...  \n",
              "2  For Sigurd Weber, born 2020-04-01 in Camilamou...  \n",
              "3  For Charity Hegmann (1972, Iceland): The Shaws...  \n",
              "4  For Lonny: The Shawshank Redemption, Forrest G...  \n",
              "5  For Dovie D'Amore (born 1968), I suggest: The ...  \n",
              "6  Evie Lind, try Casablanca, The Sound of Music,...  \n",
              "7  For Shad Hoppe, try: Casablanca, The Godfather...  \n",
              "8  For Citlalli, I suggest Everything Everywhere ...  \n",
              "9  For Matilde Kessler: Amelie, Paddington 2, Cas...  "
            ],
            "text/html": [
              "\n",
              "  <div id=\"df-e42d1078-4a61-4542-b8ab-a4d527598b99\" class=\"colab-df-container\">\n",
              "    <div>\n",
              "<style scoped>\n",
              "    .dataframe tbody tr th:only-of-type {\n",
              "        vertical-align: middle;\n",
              "    }\n",
              "\n",
              "    .dataframe tbody tr th {\n",
              "        vertical-align: top;\n",
              "    }\n",
              "\n",
              "    .dataframe thead th {\n",
              "        text-align: right;\n",
              "    }\n",
              "</style>\n",
              "<table border=\"1\" class=\"dataframe\">\n",
              "  <thead>\n",
              "    <tr style=\"text-align: right;\">\n",
              "      <th></th>\n",
              "      <th>id</th>\n",
              "      <th>firstname</th>\n",
              "      <th>lastname</th>\n",
              "      <th>email</th>\n",
              "      <th>phone</th>\n",
              "      <th>birthday</th>\n",
              "      <th>gender</th>\n",
              "      <th>address</th>\n",
              "      <th>website</th>\n",
              "      <th>image</th>\n",
              "      <th>recomendations</th>\n",
              "    </tr>\n",
              "  </thead>\n",
              "  <tbody>\n",
              "    <tr>\n",
              "      <th>0</th>\n",
              "      <td>1</td>\n",
              "      <td>Rickie</td>\n",
              "      <td>Abbott</td>\n",
              "      <td>eden.sipes@gmail.com</td>\n",
              "      <td>+19365623433</td>\n",
              "      <td>2023-09-13</td>\n",
              "      <td>other</td>\n",
              "      <td>{'id': 1, 'street': '795 Stiedemann Heights', ...</td>\n",
              "      <td>http://lueilwitz.com</td>\n",
              "      <td>http://placeimg.com/640/480/people</td>\n",
              "      <td>For Rickie, born 2023-09-13: My Neighbor Totor...</td>\n",
              "    </tr>\n",
              "    <tr>\n",
              "      <th>1</th>\n",
              "      <td>2</td>\n",
              "      <td>Mabel</td>\n",
              "      <td>Hammes</td>\n",
              "      <td>walsh.marco@yahoo.com</td>\n",
              "      <td>+19493998212</td>\n",
              "      <td>1966-09-10</td>\n",
              "      <td>other</td>\n",
              "      <td>{'id': 1, 'street': '7086 Medhurst Harbor Apt....</td>\n",
              "      <td>http://orn.com</td>\n",
              "      <td>http://placeimg.com/640/480/people</td>\n",
              "      <td>For Mabel Hammes: Forrest Gump, The Shawshank ...</td>\n",
              "    </tr>\n",
              "    <tr>\n",
              "      <th>2</th>\n",
              "      <td>3</td>\n",
              "      <td>Sigurd</td>\n",
              "      <td>Weber</td>\n",
              "      <td>ernie.rohan@gmail.com</td>\n",
              "      <td>+17162258310</td>\n",
              "      <td>2020-04-01</td>\n",
              "      <td>other</td>\n",
              "      <td>{'id': 1, 'street': '6413 Minerva Corner Suite...</td>\n",
              "      <td>http://stehr.com</td>\n",
              "      <td>http://placeimg.com/640/480/people</td>\n",
              "      <td>For Sigurd Weber, born 2020-04-01 in Camilamou...</td>\n",
              "    </tr>\n",
              "    <tr>\n",
              "      <th>3</th>\n",
              "      <td>4</td>\n",
              "      <td>Charity</td>\n",
              "      <td>Hegmann</td>\n",
              "      <td>simeon.daniel@yahoo.com</td>\n",
              "      <td>+15642460496</td>\n",
              "      <td>1972-12-24</td>\n",
              "      <td>female</td>\n",
              "      <td>{'id': 1, 'street': '50084 Braun Lake', 'stree...</td>\n",
              "      <td>http://hessel.com</td>\n",
              "      <td>http://placeimg.com/640/480/people</td>\n",
              "      <td>For Charity Hegmann (1972, Iceland): The Shaws...</td>\n",
              "    </tr>\n",
              "    <tr>\n",
              "      <th>4</th>\n",
              "      <td>5</td>\n",
              "      <td>Lonny</td>\n",
              "      <td>Langworth</td>\n",
              "      <td>maiya.hermann@powlowski.biz</td>\n",
              "      <td>+17862835502</td>\n",
              "      <td>1966-11-23</td>\n",
              "      <td>other</td>\n",
              "      <td>{'id': 1, 'street': '92723 Gutmann Spring', 's...</td>\n",
              "      <td>http://blanda.com</td>\n",
              "      <td>http://placeimg.com/640/480/people</td>\n",
              "      <td>For Lonny: The Shawshank Redemption, Forrest G...</td>\n",
              "    </tr>\n",
              "    <tr>\n",
              "      <th>5</th>\n",
              "      <td>6</td>\n",
              "      <td>Dovie</td>\n",
              "      <td>D'Amore</td>\n",
              "      <td>laila09@kshlerin.com</td>\n",
              "      <td>+16418530199</td>\n",
              "      <td>1968-01-25</td>\n",
              "      <td>other</td>\n",
              "      <td>{'id': 1, 'street': '9807 Mollie Views Suite 7...</td>\n",
              "      <td>http://bernier.info</td>\n",
              "      <td>http://placeimg.com/640/480/people</td>\n",
              "      <td>For Dovie D'Amore (born 1968), I suggest: The ...</td>\n",
              "    </tr>\n",
              "    <tr>\n",
              "      <th>6</th>\n",
              "      <td>7</td>\n",
              "      <td>Evie</td>\n",
              "      <td>Lind</td>\n",
              "      <td>emmy14@hotmail.com</td>\n",
              "      <td>+17604313023</td>\n",
              "      <td>1938-11-12</td>\n",
              "      <td>other</td>\n",
              "      <td>{'id': 1, 'street': '49151 Reinger Forge Suite...</td>\n",
              "      <td>http://schuppe.com</td>\n",
              "      <td>http://placeimg.com/640/480/people</td>\n",
              "      <td>Evie Lind, try Casablanca, The Sound of Music,...</td>\n",
              "    </tr>\n",
              "    <tr>\n",
              "      <th>7</th>\n",
              "      <td>8</td>\n",
              "      <td>Shad</td>\n",
              "      <td>Hoppe</td>\n",
              "      <td>jessyca.stiedemann@hotmail.com</td>\n",
              "      <td>+19194528182</td>\n",
              "      <td>1937-05-12</td>\n",
              "      <td>other</td>\n",
              "      <td>{'id': 1, 'street': '9295 Gene Radial Suite 62...</td>\n",
              "      <td>http://littel.com</td>\n",
              "      <td>http://placeimg.com/640/480/people</td>\n",
              "      <td>For Shad Hoppe, try: Casablanca, The Godfather...</td>\n",
              "    </tr>\n",
              "    <tr>\n",
              "      <th>8</th>\n",
              "      <td>9</td>\n",
              "      <td>Citlalli</td>\n",
              "      <td>Padberg</td>\n",
              "      <td>akautzer@heller.com</td>\n",
              "      <td>+15304826939</td>\n",
              "      <td>1999-07-27</td>\n",
              "      <td>female</td>\n",
              "      <td>{'id': 1, 'street': '2391 Osinski Walk', 'stre...</td>\n",
              "      <td>http://lebsack.com</td>\n",
              "      <td>http://placeimg.com/640/480/people</td>\n",
              "      <td>For Citlalli, I suggest Everything Everywhere ...</td>\n",
              "    </tr>\n",
              "    <tr>\n",
              "      <th>9</th>\n",
              "      <td>10</td>\n",
              "      <td>Matilde</td>\n",
              "      <td>Kessler</td>\n",
              "      <td>emard.mona@grady.biz</td>\n",
              "      <td>+18584795869</td>\n",
              "      <td>1966-12-19</td>\n",
              "      <td>female</td>\n",
              "      <td>{'id': 1, 'street': '6550 Marquis Course Apt. ...</td>\n",
              "      <td>http://paucek.com</td>\n",
              "      <td>http://placeimg.com/640/480/people</td>\n",
              "      <td>For Matilde Kessler: Amelie, Paddington 2, Cas...</td>\n",
              "    </tr>\n",
              "  </tbody>\n",
              "</table>\n",
              "</div>\n",
              "    <div class=\"colab-df-buttons\">\n",
              "\n",
              "  <div class=\"colab-df-container\">\n",
              "    <button class=\"colab-df-convert\" onclick=\"convertToInteractive('df-e42d1078-4a61-4542-b8ab-a4d527598b99')\"\n",
              "            title=\"Convert this dataframe to an interactive table.\"\n",
              "            style=\"display:none;\">\n",
              "\n",
              "  <svg xmlns=\"http://www.w3.org/2000/svg\" height=\"24px\" viewBox=\"0 -960 960 960\">\n",
              "    <path d=\"M120-120v-720h720v720H120Zm60-500h600v-160H180v160Zm220 220h160v-160H400v160Zm0 220h160v-160H400v160ZM180-400h160v-160H180v160Zm440 0h160v-160H620v160ZM180-180h160v-160H180v160Zm440 0h160v-160H620v160Z\"/>\n",
              "  </svg>\n",
              "    </button>\n",
              "\n",
              "  <style>\n",
              "    .colab-df-container {\n",
              "      display:flex;\n",
              "      gap: 12px;\n",
              "    }\n",
              "\n",
              "    .colab-df-convert {\n",
              "      background-color: #E8F0FE;\n",
              "      border: none;\n",
              "      border-radius: 50%;\n",
              "      cursor: pointer;\n",
              "      display: none;\n",
              "      fill: #1967D2;\n",
              "      height: 32px;\n",
              "      padding: 0 0 0 0;\n",
              "      width: 32px;\n",
              "    }\n",
              "\n",
              "    .colab-df-convert:hover {\n",
              "      background-color: #E2EBFA;\n",
              "      box-shadow: 0px 1px 2px rgba(60, 64, 67, 0.3), 0px 1px 3px 1px rgba(60, 64, 67, 0.15);\n",
              "      fill: #174EA6;\n",
              "    }\n",
              "\n",
              "    .colab-df-buttons div {\n",
              "      margin-bottom: 4px;\n",
              "    }\n",
              "\n",
              "    [theme=dark] .colab-df-convert {\n",
              "      background-color: #3B4455;\n",
              "      fill: #D2E3FC;\n",
              "    }\n",
              "\n",
              "    [theme=dark] .colab-df-convert:hover {\n",
              "      background-color: #434B5C;\n",
              "      box-shadow: 0px 1px 3px 1px rgba(0, 0, 0, 0.15);\n",
              "      filter: drop-shadow(0px 1px 2px rgba(0, 0, 0, 0.3));\n",
              "      fill: #FFFFFF;\n",
              "    }\n",
              "  </style>\n",
              "\n",
              "    <script>\n",
              "      const buttonEl =\n",
              "        document.querySelector('#df-e42d1078-4a61-4542-b8ab-a4d527598b99 button.colab-df-convert');\n",
              "      buttonEl.style.display =\n",
              "        google.colab.kernel.accessAllowed ? 'block' : 'none';\n",
              "\n",
              "      async function convertToInteractive(key) {\n",
              "        const element = document.querySelector('#df-e42d1078-4a61-4542-b8ab-a4d527598b99');\n",
              "        const dataTable =\n",
              "          await google.colab.kernel.invokeFunction('convertToInteractive',\n",
              "                                                    [key], {});\n",
              "        if (!dataTable) return;\n",
              "\n",
              "        const docLinkHtml = 'Like what you see? Visit the ' +\n",
              "          '<a target=\"_blank\" href=https://colab.research.google.com/notebooks/data_table.ipynb>data table notebook</a>'\n",
              "          + ' to learn more about interactive tables.';\n",
              "        element.innerHTML = '';\n",
              "        dataTable['output_type'] = 'display_data';\n",
              "        await google.colab.output.renderOutput(dataTable, element);\n",
              "        const docLink = document.createElement('div');\n",
              "        docLink.innerHTML = docLinkHtml;\n",
              "        element.appendChild(docLink);\n",
              "      }\n",
              "    </script>\n",
              "  </div>\n",
              "\n",
              "\n",
              "    <div id=\"df-1154c2ab-926f-421a-80b3-18167dedbe16\">\n",
              "      <button class=\"colab-df-quickchart\" onclick=\"quickchart('df-1154c2ab-926f-421a-80b3-18167dedbe16')\"\n",
              "                title=\"Suggest charts\"\n",
              "                style=\"display:none;\">\n",
              "\n",
              "<svg xmlns=\"http://www.w3.org/2000/svg\" height=\"24px\"viewBox=\"0 0 24 24\"\n",
              "     width=\"24px\">\n",
              "    <g>\n",
              "        <path d=\"M19 3H5c-1.1 0-2 .9-2 2v14c0 1.1.9 2 2 2h14c1.1 0 2-.9 2-2V5c0-1.1-.9-2-2-2zM9 17H7v-7h2v7zm4 0h-2V7h2v10zm4 0h-2v-4h2v4z\"/>\n",
              "    </g>\n",
              "</svg>\n",
              "      </button>\n",
              "\n",
              "<style>\n",
              "  .colab-df-quickchart {\n",
              "      --bg-color: #E8F0FE;\n",
              "      --fill-color: #1967D2;\n",
              "      --hover-bg-color: #E2EBFA;\n",
              "      --hover-fill-color: #174EA6;\n",
              "      --disabled-fill-color: #AAA;\n",
              "      --disabled-bg-color: #DDD;\n",
              "  }\n",
              "\n",
              "  [theme=dark] .colab-df-quickchart {\n",
              "      --bg-color: #3B4455;\n",
              "      --fill-color: #D2E3FC;\n",
              "      --hover-bg-color: #434B5C;\n",
              "      --hover-fill-color: #FFFFFF;\n",
              "      --disabled-bg-color: #3B4455;\n",
              "      --disabled-fill-color: #666;\n",
              "  }\n",
              "\n",
              "  .colab-df-quickchart {\n",
              "    background-color: var(--bg-color);\n",
              "    border: none;\n",
              "    border-radius: 50%;\n",
              "    cursor: pointer;\n",
              "    display: none;\n",
              "    fill: var(--fill-color);\n",
              "    height: 32px;\n",
              "    padding: 0;\n",
              "    width: 32px;\n",
              "  }\n",
              "\n",
              "  .colab-df-quickchart:hover {\n",
              "    background-color: var(--hover-bg-color);\n",
              "    box-shadow: 0 1px 2px rgba(60, 64, 67, 0.3), 0 1px 3px 1px rgba(60, 64, 67, 0.15);\n",
              "    fill: var(--button-hover-fill-color);\n",
              "  }\n",
              "\n",
              "  .colab-df-quickchart-complete:disabled,\n",
              "  .colab-df-quickchart-complete:disabled:hover {\n",
              "    background-color: var(--disabled-bg-color);\n",
              "    fill: var(--disabled-fill-color);\n",
              "    box-shadow: none;\n",
              "  }\n",
              "\n",
              "  .colab-df-spinner {\n",
              "    border: 2px solid var(--fill-color);\n",
              "    border-color: transparent;\n",
              "    border-bottom-color: var(--fill-color);\n",
              "    animation:\n",
              "      spin 1s steps(1) infinite;\n",
              "  }\n",
              "\n",
              "  @keyframes spin {\n",
              "    0% {\n",
              "      border-color: transparent;\n",
              "      border-bottom-color: var(--fill-color);\n",
              "      border-left-color: var(--fill-color);\n",
              "    }\n",
              "    20% {\n",
              "      border-color: transparent;\n",
              "      border-left-color: var(--fill-color);\n",
              "      border-top-color: var(--fill-color);\n",
              "    }\n",
              "    30% {\n",
              "      border-color: transparent;\n",
              "      border-left-color: var(--fill-color);\n",
              "      border-top-color: var(--fill-color);\n",
              "      border-right-color: var(--fill-color);\n",
              "    }\n",
              "    40% {\n",
              "      border-color: transparent;\n",
              "      border-right-color: var(--fill-color);\n",
              "      border-top-color: var(--fill-color);\n",
              "    }\n",
              "    60% {\n",
              "      border-color: transparent;\n",
              "      border-right-color: var(--fill-color);\n",
              "    }\n",
              "    80% {\n",
              "      border-color: transparent;\n",
              "      border-right-color: var(--fill-color);\n",
              "      border-bottom-color: var(--fill-color);\n",
              "    }\n",
              "    90% {\n",
              "      border-color: transparent;\n",
              "      border-bottom-color: var(--fill-color);\n",
              "    }\n",
              "  }\n",
              "</style>\n",
              "\n",
              "      <script>\n",
              "        async function quickchart(key) {\n",
              "          const quickchartButtonEl =\n",
              "            document.querySelector('#' + key + ' button');\n",
              "          quickchartButtonEl.disabled = true;  // To prevent multiple clicks.\n",
              "          quickchartButtonEl.classList.add('colab-df-spinner');\n",
              "          try {\n",
              "            const charts = await google.colab.kernel.invokeFunction(\n",
              "                'suggestCharts', [key], {});\n",
              "          } catch (error) {\n",
              "            console.error('Error during call to suggestCharts:', error);\n",
              "          }\n",
              "          quickchartButtonEl.classList.remove('colab-df-spinner');\n",
              "          quickchartButtonEl.classList.add('colab-df-quickchart-complete');\n",
              "        }\n",
              "        (() => {\n",
              "          let quickchartButtonEl =\n",
              "            document.querySelector('#df-1154c2ab-926f-421a-80b3-18167dedbe16 button');\n",
              "          quickchartButtonEl.style.display =\n",
              "            google.colab.kernel.accessAllowed ? 'block' : 'none';\n",
              "        })();\n",
              "      </script>\n",
              "    </div>\n",
              "\n",
              "  <div id=\"id_3bffab52-9b6c-484f-abb1-1ff174634228\">\n",
              "    <style>\n",
              "      .colab-df-generate {\n",
              "        background-color: #E8F0FE;\n",
              "        border: none;\n",
              "        border-radius: 50%;\n",
              "        cursor: pointer;\n",
              "        display: none;\n",
              "        fill: #1967D2;\n",
              "        height: 32px;\n",
              "        padding: 0 0 0 0;\n",
              "        width: 32px;\n",
              "      }\n",
              "\n",
              "      .colab-df-generate:hover {\n",
              "        background-color: #E2EBFA;\n",
              "        box-shadow: 0px 1px 2px rgba(60, 64, 67, 0.3), 0px 1px 3px 1px rgba(60, 64, 67, 0.15);\n",
              "        fill: #174EA6;\n",
              "      }\n",
              "\n",
              "      [theme=dark] .colab-df-generate {\n",
              "        background-color: #3B4455;\n",
              "        fill: #D2E3FC;\n",
              "      }\n",
              "\n",
              "      [theme=dark] .colab-df-generate:hover {\n",
              "        background-color: #434B5C;\n",
              "        box-shadow: 0px 1px 3px 1px rgba(0, 0, 0, 0.15);\n",
              "        filter: drop-shadow(0px 1px 2px rgba(0, 0, 0, 0.3));\n",
              "        fill: #FFFFFF;\n",
              "      }\n",
              "    </style>\n",
              "    <button class=\"colab-df-generate\" onclick=\"generateWithVariable('df')\"\n",
              "            title=\"Generate code using this dataframe.\"\n",
              "            style=\"display:none;\">\n",
              "\n",
              "  <svg xmlns=\"http://www.w3.org/2000/svg\" height=\"24px\"viewBox=\"0 0 24 24\"\n",
              "       width=\"24px\">\n",
              "    <path d=\"M7,19H8.4L18.45,9,17,7.55,7,17.6ZM5,21V16.75L18.45,3.32a2,2,0,0,1,2.83,0l1.4,1.43a1.91,1.91,0,0,1,.58,1.4,1.91,1.91,0,0,1-.58,1.4L9.25,21ZM18.45,9,17,7.55Zm-12,3A5.31,5.31,0,0,0,4.9,8.1,5.31,5.31,0,0,0,1,6.5,5.31,5.31,0,0,0,4.9,4.9,5.31,5.31,0,0,0,6.5,1,5.31,5.31,0,0,0,8.1,4.9,5.31,5.31,0,0,0,12,6.5,5.46,5.46,0,0,0,6.5,12Z\"/>\n",
              "  </svg>\n",
              "    </button>\n",
              "    <script>\n",
              "      (() => {\n",
              "      const buttonEl =\n",
              "        document.querySelector('#id_3bffab52-9b6c-484f-abb1-1ff174634228 button.colab-df-generate');\n",
              "      buttonEl.style.display =\n",
              "        google.colab.kernel.accessAllowed ? 'block' : 'none';\n",
              "\n",
              "      buttonEl.onclick = () => {\n",
              "        google.colab.notebook.generateWithVariable('df');\n",
              "      }\n",
              "      })();\n",
              "    </script>\n",
              "  </div>\n",
              "\n",
              "    </div>\n",
              "  </div>\n"
            ],
            "application/vnd.google.colaboratory.intrinsic+json": {
              "type": "dataframe",
              "variable_name": "df",
              "summary": "{\n  \"name\": \"df\",\n  \"rows\": 10,\n  \"fields\": [\n    {\n      \"column\": \"id\",\n      \"properties\": {\n        \"dtype\": \"number\",\n        \"std\": 3,\n        \"min\": 1,\n        \"max\": 10,\n        \"num_unique_values\": 10,\n        \"samples\": [\n          9,\n          2,\n          6\n        ],\n        \"semantic_type\": \"\",\n        \"description\": \"\"\n      }\n    },\n    {\n      \"column\": \"firstname\",\n      \"properties\": {\n        \"dtype\": \"string\",\n        \"num_unique_values\": 10,\n        \"samples\": [\n          \"Citlalli\",\n          \"Mabel\",\n          \"Dovie\"\n        ],\n        \"semantic_type\": \"\",\n        \"description\": \"\"\n      }\n    },\n    {\n      \"column\": \"lastname\",\n      \"properties\": {\n        \"dtype\": \"string\",\n        \"num_unique_values\": 10,\n        \"samples\": [\n          \"Padberg\",\n          \"Hammes\",\n          \"D'Amore\"\n        ],\n        \"semantic_type\": \"\",\n        \"description\": \"\"\n      }\n    },\n    {\n      \"column\": \"email\",\n      \"properties\": {\n        \"dtype\": \"string\",\n        \"num_unique_values\": 10,\n        \"samples\": [\n          \"akautzer@heller.com\",\n          \"walsh.marco@yahoo.com\",\n          \"laila09@kshlerin.com\"\n        ],\n        \"semantic_type\": \"\",\n        \"description\": \"\"\n      }\n    },\n    {\n      \"column\": \"phone\",\n      \"properties\": {\n        \"dtype\": \"string\",\n        \"num_unique_values\": 10,\n        \"samples\": [\n          \"+15304826939\",\n          \"+19493998212\",\n          \"+16418530199\"\n        ],\n        \"semantic_type\": \"\",\n        \"description\": \"\"\n      }\n    },\n    {\n      \"column\": \"birthday\",\n      \"properties\": {\n        \"dtype\": \"object\",\n        \"num_unique_values\": 10,\n        \"samples\": [\n          \"1999-07-27\",\n          \"1966-09-10\",\n          \"1968-01-25\"\n        ],\n        \"semantic_type\": \"\",\n        \"description\": \"\"\n      }\n    },\n    {\n      \"column\": \"gender\",\n      \"properties\": {\n        \"dtype\": \"category\",\n        \"num_unique_values\": 2,\n        \"samples\": [\n          \"female\",\n          \"other\"\n        ],\n        \"semantic_type\": \"\",\n        \"description\": \"\"\n      }\n    },\n    {\n      \"column\": \"address\",\n      \"properties\": {\n        \"dtype\": \"object\",\n        \"semantic_type\": \"\",\n        \"description\": \"\"\n      }\n    },\n    {\n      \"column\": \"website\",\n      \"properties\": {\n        \"dtype\": \"string\",\n        \"num_unique_values\": 10,\n        \"samples\": [\n          \"http://lebsack.com\",\n          \"http://orn.com\"\n        ],\n        \"semantic_type\": \"\",\n        \"description\": \"\"\n      }\n    },\n    {\n      \"column\": \"image\",\n      \"properties\": {\n        \"dtype\": \"category\",\n        \"num_unique_values\": 1,\n        \"samples\": [\n          \"http://placeimg.com/640/480/people\"\n        ],\n        \"semantic_type\": \"\",\n        \"description\": \"\"\n      }\n    },\n    {\n      \"column\": \"recomendations\",\n      \"properties\": {\n        \"dtype\": \"string\",\n        \"num_unique_values\": 10,\n        \"samples\": [\n          \"For Citlalli, I suggest Everything Everywhere All at Once, Parasite, and Oppenheimer. They are highly acclaimed and offer diverse, engaging stories. Perfect for a great movie experience in Wilkinsonbury, Japan.\"\n        ],\n        \"semantic_type\": \"\",\n        \"description\": \"\"\n      }\n    }\n  ]\n}"
            }
          },
          "metadata": {}
        }
      ]
    }
  ]
}